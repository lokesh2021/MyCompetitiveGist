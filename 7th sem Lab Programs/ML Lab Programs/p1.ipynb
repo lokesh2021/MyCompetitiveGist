{
 "metadata": {
  "language_info": {
   "codemirror_mode": {
    "name": "ipython",
    "version": 3
   },
   "file_extension": ".py",
   "mimetype": "text/x-python",
   "name": "python",
   "nbconvert_exporter": "python",
   "pygments_lexer": "ipython3",
   "version": "3.8.7-final"
  },
  "orig_nbformat": 2,
  "kernelspec": {
   "name": "python3",
   "display_name": "Python 3.8.7 64-bit",
   "metadata": {
    "interpreter": {
     "hash": "823e55d5cd1d708f02395cd77133f34f2d1473365ca7ec30827b6bd6813c929b"
    }
   }
  }
 },
 "nbformat": 4,
 "nbformat_minor": 2,
 "cells": [
  {
   "cell_type": "code",
   "execution_count": 21,
   "metadata": {},
   "outputs": [],
   "source": [
    "import numpy as np\n",
    "import pandas as pd"
   ]
  },
  {
   "cell_type": "code",
   "execution_count": 22,
   "metadata": {},
   "outputs": [],
   "source": [
    "data = pd.read_csv('p1.csv')\n",
    "concepts = data.iloc[:,0:-1].values\n",
    "target = data.iloc[:,-1].values\n",
    "#print(concepts)\n",
    "\n",
    "def train(con,tar):\n",
    "    specific_h = con[0]\n",
    "    for i,val in enumerate(con):\n",
    "        print(i,val)\n",
    "        if tar[i]=='yes':\n",
    "            for x in range(len(specific_h)):\n",
    "                if val[x] == specific_h[x]:\n",
    "                    pass\n",
    "                else:\n",
    "                    specific_h[x] = '?'\n",
    "    return specific_h"
   ]
  },
  {
   "cell_type": "code",
   "execution_count": 23,
   "metadata": {},
   "outputs": [
    {
     "output_type": "stream",
     "name": "stdout",
     "text": [
      "0 ['sunny' 'warm' 'normal' 'strong' 'warm' 'same']\n1 ['sunny' 'warm' 'high' 'strong' 'warm' 'same']\n2 ['rainy' 'cold' 'high' 'strong' 'warm' 'change']\n3 ['sunny' 'warm' 'high' 'strong' 'cool' 'change']\nFinal Hypothesis: ['sunny' 'warm' '?' 'strong' '?' '?']\n"
     ]
    }
   ],
   "source": [
    "print(\"Final Hypothesis:\", train(concepts,target))"
   ]
  }
 ]
}