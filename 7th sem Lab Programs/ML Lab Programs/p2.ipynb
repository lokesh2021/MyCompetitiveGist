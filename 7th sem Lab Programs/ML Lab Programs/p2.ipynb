{
 "metadata": {
  "language_info": {
   "codemirror_mode": {
    "name": "ipython",
    "version": 3
   },
   "file_extension": ".py",
   "mimetype": "text/x-python",
   "name": "python",
   "nbconvert_exporter": "python",
   "pygments_lexer": "ipython3",
   "version": "3.8.7-final"
  },
  "orig_nbformat": 2,
  "kernelspec": {
   "name": "python3",
   "display_name": "Python 3.8.7 64-bit",
   "metadata": {
    "interpreter": {
     "hash": "67645e4edde45144644326d4815cd26b14c8093db79836f9b69d4c3e18d9122c"
    }
   }
  }
 },
 "nbformat": 4,
 "nbformat_minor": 2,
 "cells": [
  {
   "cell_type": "code",
   "execution_count": 2,
   "metadata": {},
   "outputs": [],
   "source": [
    "import numpy as np,pandas as pd"
   ]
  },
  {
   "cell_type": "code",
   "execution_count": 3,
   "metadata": {},
   "outputs": [],
   "source": [
    "data=pd.read_csv('p1.csv')\n",
    "concepts = data.iloc[:,0:-1].values\n",
    "target = data.iloc[0:,-1].values"
   ]
  },
  {
   "cell_type": "code",
   "execution_count": 6,
   "metadata": {},
   "outputs": [
    {
     "output_type": "stream",
     "name": "stdout",
     "text": [
      "Final S: \n['sunny' 'warm' '?' 'strong' '?' '?']\nFinal G: \n[['sunny', '?', '?', '?', '?', '?'], ['?', 'warm', '?', '?', '?', '?']]\n"
     ]
    }
   ],
   "source": [
    "def train(concepts,target):\n",
    "    specific_h = concepts[0].copy()\n",
    "    general_h = [[\"?\" for i in range(len(specific_h))] for i in range(len(specific_h))]\n",
    "\n",
    "    for i,h in enumerate(concepts):\n",
    "        if target[i]==\"yes\":\n",
    "            for x in range (len(specific_h)):\n",
    "                if h[x]!=specific_h[x]:\n",
    "                    specific_h[x]='?'\n",
    "                    general_h[x][x]='?'\n",
    "\n",
    "        if target[i]==\"no\":\n",
    "            for x in range (len(specific_h)):\n",
    "                if h[x]!=specific_h[x]:\n",
    "                    general_h[x][x]=specific_h[x]\n",
    "                else:\n",
    "                    general_h[x][x]='?'\n",
    "\n",
    "    indices = [i for i,val in enumerate(general_h) if val ==['?','?','?','?','?','?']]\n",
    "    #print(general_h)\n",
    "    #print(indices)\n",
    "\n",
    "    for i in indices:\n",
    "        general_h.remove(['?','?','?','?','?','?',])\n",
    "    return specific_h,general_h\n",
    "\n",
    "\n",
    "s_final,g_final=train(concepts,target)\n",
    "print('Final S: ',s_final,sep=\"\\n\")\n",
    "print('Final G: ',g_final,sep=\"\\n\")"
   ]
  },
  {
   "cell_type": "code",
   "execution_count": null,
   "metadata": {},
   "outputs": [],
   "source": []
  }
 ]
}