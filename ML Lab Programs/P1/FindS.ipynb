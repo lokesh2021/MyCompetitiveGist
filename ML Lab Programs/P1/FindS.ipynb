{
 "metadata": {
  "language_info": {
   "codemirror_mode": {
    "name": "ipython",
    "version": 3
   },
   "file_extension": ".py",
   "mimetype": "text/x-python",
   "name": "python",
   "nbconvert_exporter": "python",
   "pygments_lexer": "ipython3",
   "version": "3.7.6-final"
  },
  "orig_nbformat": 2,
  "kernelspec": {
   "name": "python3",
   "display_name": "Python 3",
   "language": "python"
  }
 },
 "nbformat": 4,
 "nbformat_minor": 2,
 "cells": [
  {
   "source": [
    "# Find-S Algorithm:\n",
    "\n",
    "Aim: Implement and demonstrate the FIND-S algorithm for finding the most specific hypothesis based on a given set of training data samples. Read the training data from a .CSV file. \n",
    "\n",
    "## Algorithm:\n",
    "\n",
    "1) Initialize hypothesis h\n",
    "\n",
    "2) Identify a positive example\n",
    "\n",
    "3) Check for Attributes\n",
    "\n",
    "4) If attribute value is equal to hypothesis value? Dont change anything and repeat Step-3\n",
    "\n",
    "5) If attribute value is not equal to hypothesis value? Replace the valude with \"?\" \n",
    "\n",
    "## Limitations of Find-S Algorithm\n",
    "    > There is no way to determine if the hypothesis is consistent throughout the data\n",
    "    > k k"
   ],
   "cell_type": "markdown",
   "metadata": {}
  },
  {
   "cell_type": "code",
   "execution_count": 27,
   "metadata": {},
   "outputs": [],
   "source": [
    "import pandas as pd\n",
    "import numpy as np"
   ]
  },
  {
   "cell_type": "code",
   "execution_count": 28,
   "metadata": {},
   "outputs": [
    {
     "output_type": "execute_result",
     "data": {
      "text/plain": [
       "     sky air temp humidity    wind water forecast enjoy sport\n",
       "0  sunny     warm   normal  strong  warm     same         yes\n",
       "1  sunny     warm     high  strong  warm     same         yes\n",
       "2  rainy     cold     high  strong  warm   change          no\n",
       "3  sunny     warm     high  strong  cool   change         yes"
      ],
      "text/html": "<div>\n<style scoped>\n    .dataframe tbody tr th:only-of-type {\n        vertical-align: middle;\n    }\n\n    .dataframe tbody tr th {\n        vertical-align: top;\n    }\n\n    .dataframe thead th {\n        text-align: right;\n    }\n</style>\n<table border=\"1\" class=\"dataframe\">\n  <thead>\n    <tr style=\"text-align: right;\">\n      <th></th>\n      <th>sky</th>\n      <th>air temp</th>\n      <th>humidity</th>\n      <th>wind</th>\n      <th>water</th>\n      <th>forecast</th>\n      <th>enjoy sport</th>\n    </tr>\n  </thead>\n  <tbody>\n    <tr>\n      <th>0</th>\n      <td>sunny</td>\n      <td>warm</td>\n      <td>normal</td>\n      <td>strong</td>\n      <td>warm</td>\n      <td>same</td>\n      <td>yes</td>\n    </tr>\n    <tr>\n      <th>1</th>\n      <td>sunny</td>\n      <td>warm</td>\n      <td>high</td>\n      <td>strong</td>\n      <td>warm</td>\n      <td>same</td>\n      <td>yes</td>\n    </tr>\n    <tr>\n      <th>2</th>\n      <td>rainy</td>\n      <td>cold</td>\n      <td>high</td>\n      <td>strong</td>\n      <td>warm</td>\n      <td>change</td>\n      <td>no</td>\n    </tr>\n    <tr>\n      <th>3</th>\n      <td>sunny</td>\n      <td>warm</td>\n      <td>high</td>\n      <td>strong</td>\n      <td>cool</td>\n      <td>change</td>\n      <td>yes</td>\n    </tr>\n  </tbody>\n</table>\n</div>"
     },
     "metadata": {},
     "execution_count": 28
    }
   ],
   "source": [
    "data = pd.read_csv('data.csv')\n",
    "data"
   ]
  },
  {
   "cell_type": "code",
   "execution_count": 29,
   "metadata": {},
   "outputs": [
    {
     "output_type": "execute_result",
     "data": {
      "text/plain": [
       "array([['sunny', 'warm', 'normal', 'strong', 'warm', 'same'],\n",
       "       ['sunny', 'warm', 'high', 'strong', 'warm', 'same'],\n",
       "       ['rainy', 'cold', 'high', 'strong', 'warm', 'change'],\n",
       "       ['sunny', 'warm', 'high', 'strong', 'cool', 'change']],\n",
       "      dtype=object)"
      ]
     },
     "metadata": {},
     "execution_count": 29
    }
   ],
   "source": [
    "d = np.array(data)[:,:-1]\n",
    "d"
   ]
  },
  {
   "cell_type": "code",
   "execution_count": 30,
   "metadata": {},
   "outputs": [
    {
     "output_type": "execute_result",
     "data": {
      "text/plain": [
       "array(['yes', 'yes', 'no', 'yes'], dtype=object)"
      ]
     },
     "metadata": {},
     "execution_count": 30
    }
   ],
   "source": [
    "target = np.array(data)[:,-1]\n",
    "target"
   ]
  },
  {
   "cell_type": "code",
   "execution_count": 34,
   "metadata": {},
   "outputs": [
    {
     "output_type": "stream",
     "name": "stdout",
     "text": [
      "The final hypothesis is ['sunny' 'warm' '?' 'strong' '?' '?']\n"
     ]
    }
   ],
   "source": [
    "def train(c,t):\n",
    "    for i, val in enumerate(t):\n",
    "        if val ==\"yes\":\n",
    "            specific_hypothesis = c[i].copy()\n",
    "            break \n",
    "    for i, val in enumerate(c):\n",
    "        if t[i] ==\"yes\":\n",
    "            for x in range (len(specific_hypothesis)):\n",
    "                if val[x] !=specific_hypothesis[x]:\n",
    "                    specific_hypothesis[x]=\"?\"\n",
    "                else:\n",
    "                    pass\n",
    "    return specific_hypothesis\n",
    "\n",
    "print(\"The final hypothesis is\",train(d,target))"
   ]
  },
  {
   "cell_type": "code",
   "execution_count": null,
   "metadata": {},
   "outputs": [],
   "source": []
  }
 ]
}