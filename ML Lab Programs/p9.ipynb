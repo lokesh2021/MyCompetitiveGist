{
 "metadata": {
  "language_info": {
   "codemirror_mode": {
    "name": "ipython",
    "version": 3
   },
   "file_extension": ".py",
   "mimetype": "text/x-python",
   "name": "python",
   "nbconvert_exporter": "python",
   "pygments_lexer": "ipython3",
   "version": "3.8.7-final"
  },
  "orig_nbformat": 2,
  "kernelspec": {
   "name": "python3",
   "display_name": "Python 3.8.7 64-bit",
   "metadata": {
    "interpreter": {
     "hash": "67645e4edde45144644326d4815cd26b14c8093db79836f9b69d4c3e18d9122c"
    }
   }
  }
 },
 "nbformat": 4,
 "nbformat_minor": 2,
 "cells": [
  {
   "cell_type": "code",
   "execution_count": 28,
   "metadata": {},
   "outputs": [
    {
     "output_type": "stream",
     "name": "stdout",
     "text": [
      "[[5.1 3.5 1.4 0.2]\n [4.9 3.  1.4 0.2]\n [4.7 3.2 1.3 0.2]\n [4.6 3.1 1.5 0.2]\n [5.  3.6 1.4 0.2]]\n[0 0 0 0 0]\n[2]\nTraining Accuracy:  0.9732142857142857\nTesting Accuracy:  0.9736842105263158\nTraining Confusion Matrix is:  [[37  0  0]\n [ 0 32  2]\n [ 0  1 40]]\nTesting Confucion Matrix is:  [[13  0  0]\n [ 0 15  1]\n [ 0  0  9]]\npredicton is:virginica, Actual is virginica\n"
     ]
    }
   ],
   "source": [
    "#import required data\n",
    "import numpy as np,pandas as pd,matplotlib.pyplot as pyplot\n",
    "from sklearn.datasets import load_iris\n",
    "from sklearn.neighbors import KNeighborsClassifier\n",
    "from sklearn.metrics import confusion_matrix,accuracy_score\n",
    "from sklearn.model_selection import train_test_split\n",
    "\n",
    "#load iris data and create dataset\n",
    "iris_dataset = load_iris()\n",
    "x_train,x_test,y_train,y_test = train_test_split(iris_dataset[\"data\"],iris_dataset[\"target\"],random_state=0)\n",
    "print(iris_dataset[\"data\"][:5])\n",
    "print(iris_dataset[\"target\"][:5])\n",
    "\n",
    "#KneighborsClassifier\n",
    "kn = KNeighborsClassifier()\n",
    "kn.fit(x_train,y_train)\n",
    "\n",
    "prediction1 = kn.predict(x_train)\n",
    "prediction2 = kn.predict(x_test)\n",
    "\n",
    "print(prediction)\n",
    "\n",
    "print(\"Training Accuracy: \",accuracy_score(y_train,prediction1))\n",
    "print(\"Testing Accuracy: \",accuracy_score(y_test,prediction2))\n",
    "print(\"Training Confusion Matrix is: \",confusion_matrix(y_train,prediction1))\n",
    "print(\"Testing Confucion Matrix is: \",confusion_matrix(y_test,prediction2))\n",
    "\n",
    "target_names = iris_dataset.target_names\n",
    "for pred,actual in zip(prediction,y_test):\n",
    "    print(\"predicton is:\"+str(target_names[pred])+\", Actual is \"+str(target_names[actual]))"
   ]
  },
  {
   "cell_type": "code",
   "execution_count": null,
   "metadata": {},
   "outputs": [],
   "source": []
  }
 ]
}