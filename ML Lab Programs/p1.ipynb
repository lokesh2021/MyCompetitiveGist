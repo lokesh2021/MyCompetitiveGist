{
 "metadata": {
  "language_info": {
   "codemirror_mode": {
    "name": "ipython",
    "version": 3
   },
   "file_extension": ".py",
   "mimetype": "text/x-python",
   "name": "python",
   "nbconvert_exporter": "python",
   "pygments_lexer": "ipython3",
   "version": "3.8.7-final"
  },
  "orig_nbformat": 2,
  "kernelspec": {
   "name": "python3",
   "display_name": "Python 3.8.7 64-bit",
   "metadata": {
    "interpreter": {
     "hash": "67645e4edde45144644326d4815cd26b14c8093db79836f9b69d4c3e18d9122c"
    }
   }
  }
 },
 "nbformat": 4,
 "nbformat_minor": 2,
 "cells": [
  {
   "cell_type": "code",
   "execution_count": 27,
   "metadata": {},
   "outputs": [],
   "source": [
    "import numpy as np,pandas as pd"
   ]
  },
  {
   "cell_type": "code",
   "execution_count": 29,
   "metadata": {},
   "outputs": [
    {
     "output_type": "stream",
     "name": "stdout",
     "text": [
      "[['sunny' 'warm' 'normal' 'strong' 'warm' 'same']\n ['sunny' 'warm' 'high' 'strong' 'warm' 'same']\n ['rainy' 'cold' 'high' 'strong' 'warm' 'change']\n ['sunny' 'warm' 'high' 'strong' 'cool' 'change']]\n['sunny' 'warm' 'normal' 'strong' 'warm' 'same']\n"
     ]
    }
   ],
   "source": [
    "data = pd.read_csv('p1.csv')\n",
    "concepts = data.iloc[:,0:-1].values\n",
    "target = data.iloc[:,-1].values\n",
    "#print(concepts)\n",
    "\n",
    "def train(concepts,target):\n",
    "    specific_h = concepts[0]\n",
    "    for i,h in enumerate(concepts):\n",
    "        if target[i]==\"yes\":\n",
    "            for x in range(len(specific_h)):\n",
    "                if h[x]==specific_h[x]:\n",
    "                    pass\n",
    "                else:\n",
    "                    specific_h[x]==\"?\"\n",
    "    return specific_h\n",
    "specific_h = train(concepts,target)\n",
    "print(specific_h)"
   ]
  },
  {
   "cell_type": "code",
   "execution_count": null,
   "metadata": {},
   "outputs": [],
   "source": []
  }
 ]
}