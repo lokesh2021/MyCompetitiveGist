{
 "metadata": {
  "language_info": {
   "codemirror_mode": {
    "name": "ipython",
    "version": 3
   },
   "file_extension": ".py",
   "mimetype": "text/x-python",
   "name": "python",
   "nbconvert_exporter": "python",
   "pygments_lexer": "ipython3",
   "version": 3
  },
  "orig_nbformat": 2
 },
 "nbformat": 4,
 "nbformat_minor": 2,
 "cells": [
  {
   "source": [
    "# Find-S Algorithm:\n",
    "## Aim: Implement and demonstrate the FIND-S algorithm for finding the most specific hypothesis based on a given set of training data samples. Read the training data from a .CSV file. \n",
    "\n",
    "### Algorithm:\n",
    "\n",
    "1) Initialize hypothesis\n",
    "\n",
    "2) Identify a positive example\n",
    "\n",
    "3) Check for Attributes\n",
    "\n",
    "4) If attribute value is equal to hypothesis value? Dont change anything and repeat Step-3\n",
    "\n",
    "5) If attribute value is not equal to hypothesis value? Replace the valude with \"?\" "
   ],
   "cell_type": "markdown",
   "metadata": {}
  },
  {
   "cell_type": "code",
   "execution_count": null,
   "metadata": {},
   "outputs": [],
   "source": []
  }
 ]
}