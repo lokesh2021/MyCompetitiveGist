{
 "metadata": {
  "language_info": {
   "codemirror_mode": {
    "name": "ipython",
    "version": 3
   },
   "file_extension": ".py",
   "mimetype": "text/x-python",
   "name": "python",
   "nbconvert_exporter": "python",
   "pygments_lexer": "ipython3",
   "version": "3.8.6-final"
  },
  "orig_nbformat": 2,
  "kernelspec": {
   "name": "Python 3.8.6 64-bit",
   "display_name": "Python 3.8.6 64-bit",
   "metadata": {
    "interpreter": {
     "hash": "4d26d3fdd18fb1d7852a4a71f883be9178031497bcc5afd5cebfb7b50eeb8226"
    }
   }
  }
 },
 "nbformat": 4,
 "nbformat_minor": 2,
 "cells": [
  {
   "cell_type": "code",
   "execution_count": 6,
   "metadata": {},
   "outputs": [
    {
     "output_type": "stream",
     "name": "stdout",
     "text": [
      "image found\n"
     ]
    }
   ],
   "source": [
    "import os\n",
    "url = 'https://www.hindustantimes.com/rf/image_size_960x540/HT/p2/2020/10/21/Pictures/patna-evm-training_e4bb0974-1382-11eb-8d9b-3f5d4a8a0fbd.jpg'\n",
    "mycmd = f'curl {url} > image.jpg'\n",
    "os.system(mycmd)\n",
    "if 'image.jpg' in os.listdir(os.getcwd()):\n",
    "    print('image found')\n",
    "else:\n",
    "    print('not found')\n",
    "# os.remove('image.jpg')"
   ]
  },
  {
   "cell_type": "code",
   "execution_count": 7,
   "metadata": {},
   "outputs": [
    {
     "output_type": "execute_result",
     "data": {
      "text/plain": [
       "['Day 1',\n",
       " 'Day 2',\n",
       " 'Day 3',\n",
       " 'Day 4',\n",
       " 'Day 5',\n",
       " 'Day 6',\n",
       " 'Day 7',\n",
       " 'image.jpg',\n",
       " 'langChnage.ipynb',\n",
       " 'NewsCardShare.ipynb']"
      ]
     },
     "metadata": {},
     "execution_count": 7
    }
   ],
   "source": [
    "os.listdir(os.getcwd())"
   ]
  },
  {
   "cell_type": "code",
   "execution_count": 1,
   "metadata": {},
   "outputs": [
    {
     "output_type": "execute_result",
     "data": {
      "text/plain": [
       "False"
      ]
     },
     "metadata": {},
     "execution_count": 1
    }
   ],
   "source": [
    "import cv2 as cv \n",
    "# import openpyxl \n",
    "\n",
    "# template1.png is the template \n",
    "template_path = 'cardinp.png'\n",
    "\n",
    "# Excel file containing names of \n",
    "# the participants \n",
    "details_path = 'gsocOrgsList.xlsx'\n",
    "\n",
    "# Output Paths \n",
    "output_path = 'Users\\lokes\\OneDrive\\Desktop\\MyCompetitiveGist\\DS'\n",
    "\n",
    "title = 'Coronavirus cases in Maharashtra cross 2.3 lakh, death toll reaches 9k'\n",
    "sumbyai = 'Summarized by NEWSIO AI from indiatoday'\n",
    "summary = 'The quick, brown fox jumps over a lazy dog. DJs flock by when MTV ax quiz prog. Junk MTV quiz graced by fox whelps. Bawds jog, flick quartz, vex nymphs. Waltz, bad nymph, for quick jigs vex! Fox nymphs grab quick-jived waltz. Brick quiz whangs jumpy veldt fox. Bright vixens jump; dozy fowl quack. Quick wafting zephyrs vex bold Jim. Quick zephyrs blow, vexing daft Jim. Sex-charged fop blew my junk TV quiz. How quickly daft jumping zebras vex. Two driven jocks help fax my big quiz...'\n",
    "\n",
    "\n",
    "# Setting the font size and font \n",
    "# colour \n",
    "font_size = 3\n",
    "font_color = (0,0,0) \n",
    "\n",
    "# Coordinates on the certificate where \n",
    "# will be printing the name (set \n",
    "# according to your own template) \n",
    "coordinate_y_adjustment = 15\n",
    "coordinate_x_adjustment = 7\n",
    "\n",
    "# loading the details.xlsx workbook \n",
    "# and grabbing the active sheet \n",
    "# obj = openpyxl.load_workbook(details_path) \n",
    "# sheet = obj.active \n",
    "\n",
    "# printing for the first 10 names in the \n",
    "# excel sheet \n",
    "# for i in range(1,11): \n",
    "\t\n",
    "\t# grabs the row=i and column=1 cell \n",
    "\t# that contains the name value of that \n",
    "\t# cell is stored in the variable certi_name \n",
    "\t# get_name = sheet.cell(row = i ,column = 1) \n",
    "\t# certi_name = get_name.value \n",
    "\t\t\t\t\t\t\t\n",
    "\t# read the certificate template \n",
    "img = cv.imread(template_path) \n",
    "\t\t\t\t\t\t\t\t\n",
    "\t# choose the font from opencv \n",
    "font = cv.FONT_HERSHEY_PLAIN\t\t\t \n",
    "\n",
    "\t# get the size of the name to be \n",
    "\t# printed \n",
    "text_size = cv.getTextSize(title, font, font_size, 10)[0]\t \n",
    "\n",
    "\t# get the (x,y) coordinates where the \n",
    "\t# name is to written on the template \n",
    "\t# The function cv.putText accepts only \n",
    "\t# integer arguments so convert it into 'int'. \n",
    "text_x = (img.shape[1] - text_size[0]) / 2 + coordinate_x_adjustment \n",
    "text_y = (img.shape[0] + text_size[1]) / 2 - coordinate_y_adjustment \n",
    "text_x = int(text_x) \n",
    "text_y = int(text_y) \n",
    "cv.putText(img, title, \n",
    "\t\t(text_x ,text_y ), \n",
    "\t\tfont, \n",
    "\t\tfont_size, \n",
    "\t\tfont_color, 10) \n",
    "\n",
    "\t# Output path along with the name of the \n",
    "\t# certificate generated \n",
    "certi_path = output_path + '/certi' + '.png'\n",
    "\t\n",
    "\t# Save the certificate\t\t\t\t\t \n",
    "cv.imwrite(certi_path,img) \n"
   ]
  },
  {
   "cell_type": "code",
   "execution_count": 13,
   "metadata": {},
   "outputs": [
    {
     "output_type": "stream",
     "name": "stdout",
     "text": [
      "working\nfor loop\nfor loop\ndone\n"
     ]
    }
   ],
   "source": [
    "#import the necessary libraries</pre> \n",
    "\n",
    "import cv2 as cv \n",
    "import openpyxl \n",
    "\n",
    "\t\n",
    "# template1.png is the template \n",
    "# certificate \n",
    "template_path = 'cardinp.png'\n",
    "\n",
    "# Excel file containing names of \n",
    "# the participants \n",
    "details_path = 'names.xlsx'\n",
    "\n",
    "# Output Paths \n",
    "output_path = 'Users\\lokes\\OneDrive\\Desktop\\MyCompetitiveGist\\DS'\n",
    "\n",
    "# Setting the font size and font \n",
    "# colour \n",
    "font_size = 3\n",
    "font_color = (0,0,0) \n",
    "\n",
    "# Coordinates on the certificate where \n",
    "# will be printing the name (set \n",
    "# according to your own template) \n",
    "coordinate_y_adjustment = 15\n",
    "coordinate_x_adjustment = 7\n",
    "\n",
    "# loading the details.xlsx workbook \n",
    "# and grabbing the active sheet \n",
    "obj = openpyxl.load_workbook(details_path) \n",
    "sheet = obj.active \n",
    "print('working')\n",
    "\n",
    "# printing for the first 10 names in the \n",
    "# excel sheet \n",
    "for i in range(1,3): \n",
    "\t\n",
    "\t# grabs the row=i and column=1 cell \n",
    "\t# that contains the name value of that \n",
    "\t# cell is stored in the variable certi_name \n",
    "\tget_name = sheet.cell(row = i ,column = 1) \n",
    "\tcerti_name = get_name.value \n",
    "\tprint('for loop')\n",
    "\t# read the certificate template \n",
    "\timg = cv.imread(template_path) \n",
    "\t\t\t\t\t\t\t\t\n",
    "\t# choose the font from opencv \n",
    "\tfont = cv.FONT_HERSHEY_PLAIN\t\t\t \n",
    "\n",
    "\t# get the size of the name to be \n",
    "\t# printed \n",
    "\ttext_size = cv.getTextSize(certi_name, font, font_size, 10)[0]\t \n",
    "\n",
    "\t# get the (x,y) coordinates where the \n",
    "\t# name is to written on the template \n",
    "\t# The function cv.putText accepts only \n",
    "\t# integer arguments so convert it into 'int'. \n",
    "\ttext_x = (img.shape[1] - text_size[0]) / 2 + coordinate_x_adjustment \n",
    "\ttext_y = (img.shape[0] + text_size[1]) / 2 - coordinate_y_adjustment \n",
    "\ttext_x = int(text_x) \n",
    "\ttext_y = int(text_y) \n",
    "\tcv.putText(img, certi_name, \n",
    "\t\t\t(text_x ,text_y ), \n",
    "\t\t\tfont, \n",
    "\t\t\tfont_size, \n",
    "\t\t\tfont_color, 10) \n",
    "\n",
    "\t# Output path along with the name of the \n",
    "\t# certificate generated \n",
    "\tcerti_path = '/certi' + '.png'\n",
    "\t\n",
    "\t# Save the certificate\t\t\t\t\t \n",
    "\tcv.imwrite(certi_path,img) \n",
    "print('done')"
   ]
  },
  {
   "cell_type": "code",
   "execution_count": null,
   "metadata": {},
   "outputs": [],
   "source": []
  }
 ]
}